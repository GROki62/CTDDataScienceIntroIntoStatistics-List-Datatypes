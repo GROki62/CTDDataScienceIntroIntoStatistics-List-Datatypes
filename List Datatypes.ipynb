{
 "cells": [
  {
   "cell_type": "code",
   "execution_count": 1,
   "id": "1f804798",
   "metadata": {},
   "outputs": [],
   "source": [
    "#list datatype\n",
    "#never name a list \"list\"\n",
    "\n",
    "#declare a list variable and populate it with test score\n",
    "test_scores = [ 22, 99, 102, 33, 57, 75, 100, 81, 62, 29]"
   ]
  },
  {
   "cell_type": "code",
   "execution_count": 2,
   "id": "076ee17c",
   "metadata": {},
   "outputs": [
    {
     "name": "stdout",
     "output_type": "stream",
     "text": [
      "660\n",
      "66.0\n"
     ]
    }
   ],
   "source": [
    "#define function that returns sum, can now be used anywhere\n",
    "def get_sum(num_list):\n",
    "    #for loop, gives us mean\n",
    "    sum = 0\n",
    "    #add each test score to sum\n",
    "    #for loop that loops through list:\n",
    "    for x in num_list:\n",
    "        sum = sum + x\n",
    "    return sum\n",
    "\n",
    "sum = get_sum(test_scores)\n",
    "print(sum)\n",
    "# #get n\n",
    "n = len(test_scores)\n",
    "#divide sum by n to get mean\n",
    "mean = sum/n\n",
    "print(mean)"
   ]
  },
  {
   "cell_type": "code",
   "execution_count": 3,
   "id": "c15f9392",
   "metadata": {},
   "outputs": [
    {
     "name": "stdout",
     "output_type": "stream",
     "text": [
      "[-44.0, 33.0, 36.0, -33.0, -9.0, 9.0, 34.0, 15.0, -4.0, -37.0]\n"
     ]
    }
   ],
   "source": [
    "#initiatlize an empty list to get diff from mean, 2nd column in day 3 HW\n",
    "delta_mean_list = []\n",
    "#square brackets create an empty list\n",
    "for i in test_scores:\n",
    "    d_mean = i - mean\n",
    "    delta_mean_list.append(d_mean)\n",
    "#remember, coding is mostly doing\n",
    "\n",
    "print(delta_mean_list)"
   ]
  },
  {
   "cell_type": "code",
   "execution_count": 4,
   "id": "27e0c528",
   "metadata": {},
   "outputs": [
    {
     "name": "stdout",
     "output_type": "stream",
     "text": [
      "[1936.0, 1089.0, 1296.0, 1089.0, 81.0, 81.0, 1156.0, 225.0, 16.0, 1369.0]\n"
     ]
    }
   ],
   "source": [
    "#remember variables can change\n",
    "delta_mean_squared_list = []\n",
    "for d_mean in delta_mean_list:\n",
    "    d_mean_sqrd = d_mean**2 #assign d_mean squared to variable\n",
    "    delta_mean_squared_list.append(d_mean_sqrd) #.append adds list into delta mean, (or something similar???)\n",
    "print(delta_mean_squared_list)"
   ]
  },
  {
   "cell_type": "code",
   "execution_count": 5,
   "id": "6fec8dff",
   "metadata": {},
   "outputs": [
    {
     "name": "stdout",
     "output_type": "stream",
     "text": [
      "8338.0\n"
     ]
    }
   ],
   "source": [
    "delta_mean_squared_sum = get_sum(delta_mean_squared_list)\n",
    "print(delta_mean_squared_sum)"
   ]
  },
  {
   "cell_type": "code",
   "execution_count": null,
   "id": "6d289e26",
   "metadata": {},
   "outputs": [],
   "source": []
  },
  {
   "cell_type": "code",
   "execution_count": null,
   "id": "e6d628a1",
   "metadata": {},
   "outputs": [],
   "source": []
  },
  {
   "cell_type": "code",
   "execution_count": 6,
   "id": "1f28d879",
   "metadata": {},
   "outputs": [
    {
     "name": "stdout",
     "output_type": "stream",
     "text": [
      "833.8 28.875595231960155\n"
     ]
    }
   ],
   "source": [
    "import math\n",
    "variance = delta_mean_squared_sum/n\n",
    "standard_deviation = math.sqrt(variance)\n",
    "print(variance, standard_deviation)"
   ]
  },
  {
   "cell_type": "code",
   "execution_count": 7,
   "id": "de9aacc4",
   "metadata": {},
   "outputs": [
    {
     "name": "stdout",
     "output_type": "stream",
     "text": [
      "75\n"
     ]
    }
   ],
   "source": [
    "#test_scores = test_scores.sort()\n",
    "import numpy as np\n",
    "test_scores = list(np.sort(test_scores))\n",
    "median_index = int(len(test_scores)/2)\n",
    "median = test_scores[median_index]\n",
    "print(median)"
   ]
  },
  {
   "cell_type": "code",
   "execution_count": 8,
   "id": "a80fdd72",
   "metadata": {},
   "outputs": [],
   "source": [
    "#this is the only important one, :P define function that returns sum, can now be used anywhere\n",
    "def get_sum(num_list):\n",
    "    #for loop, gives us mean\n",
    "    sum = 0\n",
    "    #add each test score to sum\n",
    "    #for loop that loops through list:\n",
    "    for x in num_list:\n",
    "        sum = sum + x\n",
    "    return sum\n",
    "\n",
    "#going to mash everything above into a singlular function\n",
    "#you can work in two windows, just copypaste link\n",
    "import math #so you can run this cell only w/o running above\n",
    "def do_homework(num_list): #defining homework\n",
    "    #mean\n",
    "    sum = get_sum(num_list)\n",
    "    n = len(num_list)\n",
    "    mean = sum/n\n",
    "    #initiatlize empty list for delta mean\n",
    "    delta_mean_list = []\n",
    "    #square brackets create an empty list\n",
    "    for i in test_scores:\n",
    "        d_mean = i - mean\n",
    "        delta_mean_list.append(d_mean)\n",
    "        #remember, coding is mostly doing\n",
    "        #remember variables can change\n",
    "    delta_mean_squared_list = []\n",
    "    #populate delta squared mean list\n",
    "    for d_mean in delta_mean_list:\n",
    "        d_mean_sqrd = d_mean**2 #assign d_mean squared to variable\n",
    "        delta_mean_squared_list.append(d_mean_sqrd) #.append adds list into delta mean, (or something similar???)\n",
    "    delta_mean_squared_sum = get_sum(delta_mean_squared_list)\n",
    "    variance = delta_mean_squared_sum/n\n",
    "    standard_deviation = math.sqrt(variance)\n",
    "    return variance, standard_deviation\n",
    "\n",
    "test_scores = test_scores.sort\n"
   ]
  },
  {
   "cell_type": "code",
   "execution_count": 9,
   "id": "9c947ffa",
   "metadata": {},
   "outputs": [
    {
     "name": "stdout",
     "output_type": "stream",
     "text": [
      "833.8 28.875595231960155\n"
     ]
    }
   ],
   "source": [
    "import math\n",
    "variance = delta_mean_squared_sum/n\n",
    "standard_deviation = math.sqrt(variance)\n",
    "print(variance, standard_deviation)"
   ]
  },
  {
   "cell_type": "code",
   "execution_count": null,
   "id": "ade5b298",
   "metadata": {},
   "outputs": [],
   "source": []
  },
  {
   "cell_type": "code",
   "execution_count": null,
   "id": "015dc667",
   "metadata": {},
   "outputs": [],
   "source": []
  }
 ],
 "metadata": {
  "kernelspec": {
   "display_name": "Python 3 (ipykernel)",
   "language": "python",
   "name": "python3"
  },
  "language_info": {
   "codemirror_mode": {
    "name": "ipython",
    "version": 3
   },
   "file_extension": ".py",
   "mimetype": "text/x-python",
   "name": "python",
   "nbconvert_exporter": "python",
   "pygments_lexer": "ipython3",
   "version": "3.9.12"
  }
 },
 "nbformat": 4,
 "nbformat_minor": 5
}
